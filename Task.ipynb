{
 "cells": [
  {
   "cell_type": "code",
   "execution_count": 4,
   "metadata": {},
   "outputs": [
    {
     "name": "stdout",
     "output_type": "stream",
     "text": [
      "Available output options:\n",
      "Enter -u ( --underscore )\n",
      "Enter -c ( --color highliting )\n",
      "Enter -m ( --machine readable output \n",
      "Enter -x for standard output\n"
     ]
    }
   ],
   "source": [
    "import re\n",
    "import fileinput\n",
    "import sys\n",
    "import os\n",
    "\n",
    "\n",
    "\n",
    "\n",
    "#inputing data from file (located in the same folder as Python)\n",
    "# i don't know how to call this function correctly\n",
    "def search_for_pattern():\n",
    "    '''\n",
    "    Discription: Function takes file name and ask for pattern to search in the file. Outputs all lines with the match, ignoring case \n",
    "    Input: ???\n",
    "    output: all lines with the matching pattern\n",
    "    '''\n",
    "    \n",
    "    file = input(\"enter filename:\")\n",
    "    text = input(\"enter text to be searched:\")\n",
    "\n",
    "    pattern = open(file, \"r\")\n",
    "\n",
    "    for line in pattern:\n",
    "        if re.match('(.+) ' + text + ' (.+)', line):\n",
    "            print(line)\n",
    "    \n",
    "#asking user for inputing any of 3 options: underscoring, highliting and generate machine readable output\n",
    "print(\"Available output options:\\nEnter -u ( --underscore )\\nEnter -c ( --color highliting )\\nEnter -m ( --machine readable output \\nEnter -x for standard output\")\n",
    "def get_output_option():\n",
    "    choise = input(\"Enter option:\\n\")\n",
    "\n",
    "    if choise == u:\n",
    "        print(\"{:s}\\n{:s}\\n\".format(line, len(line) * \"^\"))  # under lines with ^ the whole line. Change\n",
    "\n",
    "    elif choise == c:\n",
    "        print( \"\\033[92m {}\\033[00m\" .format(line))  #highlights the whole line, not pattern. Need to be changed\n",
    "        \n",
    "    elif choise == m:\n",
    "        pass    #mahine readable input which i do not understand at all and cannot google\n",
    "\n",
    "    elif choise == x:\n",
    "        print(line)\n",
    "\n",
    "#сейчас осталась проблема class и создание параметров -u -c -m для подчеркивания вывода, цвета и machine readale output"
   ]
  },
  {
   "cell_type": "code",
   "execution_count": null,
   "metadata": {},
   "outputs": [],
   "source": []
  }
 ],
 "metadata": {
  "kernelspec": {
   "display_name": "Python 3",
   "language": "python",
   "name": "python3"
  },
  "language_info": {
   "codemirror_mode": {
    "name": "ipython",
    "version": 3
   },
   "file_extension": ".py",
   "mimetype": "text/x-python",
   "name": "python",
   "nbconvert_exporter": "python",
   "pygments_lexer": "ipython3",
   "version": "3.7.3"
  }
 },
 "nbformat": 4,
 "nbformat_minor": 2
}
