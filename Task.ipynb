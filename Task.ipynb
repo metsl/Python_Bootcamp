{
 "cells": [
  {
   "cell_type": "code",
   "execution_count": 18,
   "metadata": {},
   "outputs": [
    {
     "name": "stdout",
     "output_type": "stream",
     "text": [
      "found a match!\n",
      "['error']\n"
     ]
    }
   ],
   "source": [
    "import re\n",
    "import fileinput\n",
    "\n",
    "#class model example\n",
    "class FileInput():\n",
    "    def __init__(self,matching,param2):\n",
    "        self.param1=param1\n",
    "        self.param2=param2\n",
    "\n",
    "#inputing data from file (located in the same folder as Python)\n",
    "def read_in():\n",
    "    inpt = sys.stdin.readlines()\n",
    "    for i in range(len(inpt)):\n",
    "        inpt[i] = inpt[i].replace('\\n','')\n",
    "    return inpt\n",
    "\n",
    "\n",
    "#finding error pattern in the input data\n",
    "\n",
    "\n",
    "inpt = \"error time 14:33 date 12/12/19\" #temporary input for testing\n",
    "pattern= r'.*error'                    #я здесь запутался в синтаксисе, хотел вернуть всю строку, начинающуюсь на error\n",
    "match=re.findall(pattern,inpt)\n",
    "if re.search(pattern, inpt):\n",
    "        print('found a match!')\n",
    "else:\n",
    "    print('no match')\n",
    "print(match)\n",
    "#сейчас осталась проблема class и создание параметров -u -c -m для подчеркивания вывода, цвета и machine readale output"
   ]
  },
  {
   "cell_type": "code",
   "execution_count": null,
   "metadata": {},
   "outputs": [],
   "source": []
  }
 ],
 "metadata": {
  "kernelspec": {
   "display_name": "Python 3",
   "language": "python",
   "name": "python3"
  },
  "language_info": {
   "codemirror_mode": {
    "name": "ipython",
    "version": 3
   },
   "file_extension": ".py",
   "mimetype": "text/x-python",
   "name": "python",
   "nbconvert_exporter": "python",
   "pygments_lexer": "ipython3",
   "version": "3.7.3"
  }
 },
 "nbformat": 4,
 "nbformat_minor": 2
}
